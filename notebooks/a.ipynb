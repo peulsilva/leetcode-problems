{
 "cells": [
  {
   "cell_type": "code",
   "execution_count": 20,
   "metadata": {},
   "outputs": [],
   "source": [
    "n = 4\n",
    "grid = [[0 for i in range(n)] for j in range(n)]"
   ]
  },
  {
   "cell_type": "code",
   "execution_count": 1,
   "metadata": {},
   "outputs": [
    {
     "data": {
      "text/plain": [
       "903.0"
      ]
     },
     "execution_count": 1,
     "metadata": {},
     "output_type": "execute_result"
    }
   ],
   "source": [
    "43*42/2"
   ]
  },
  {
   "cell_type": "code",
   "execution_count": 8,
   "metadata": {},
   "outputs": [],
   "source": [
    "proba_flush_given_4d_on_5th = 1 - ((32*31)/2)/((41*40)/2)\n",
    "proba_4d_on_5th = 10*33/((43*42)/2)\n",
    "proba_flush_given_pair_on_5th_3d = ((10*9)/2)/((41*40)/2)"
   ]
  },
  {
   "cell_type": "code",
   "execution_count": 10,
   "metadata": {},
   "outputs": [
    {
     "data": {
      "text/plain": [
       "0.054878048780487805"
      ]
     },
     "execution_count": 10,
     "metadata": {},
     "output_type": "execute_result"
    }
   ],
   "source": [
    "proba_flush_given_pair_on_5th_3d"
   ]
  },
  {
   "cell_type": "code",
   "execution_count": 2,
   "metadata": {},
   "outputs": [
    {
     "data": {
      "text/plain": [
       "0.6112956810631229"
      ]
     },
     "execution_count": 2,
     "metadata": {},
     "output_type": "execute_result"
    }
   ],
   "source": [
    "proba_pair_on_5th_3d = (9*32 + 24*11)/903\n",
    "\n",
    "proba_pair_on_5th_3d"
   ]
  },
  {
   "cell_type": "code",
   "execution_count": 3,
   "metadata": {},
   "outputs": [
    {
     "data": {
      "text/plain": [
       "0.1821516393442623"
      ]
     },
     "execution_count": 3,
     "metadata": {},
     "output_type": "execute_result"
    }
   ],
   "source": [
    "(0.611*0.055 + 0.365 * 0.395)/(0.365 + 0.611)"
   ]
  },
  {
   "cell_type": "code",
   "execution_count": 67,
   "metadata": {},
   "outputs": [],
   "source": [
    "def is_available_horizontal(grid, i, j, size):\n",
    "    for k in range(j, j+size):\n",
    "        if k>= len(grid):\n",
    "            return False\n",
    "        if grid[i][k] != 0:\n",
    "            return False\n",
    "    \n",
    "    return True\n",
    "\n",
    "def is_available_vertical(grid, i, j, size):\n",
    "    for k in range(i, i+size):\n",
    "        if k >= len(grid):\n",
    "            return False\n",
    "        if grid[k][j] != 0:\n",
    "            return False\n",
    "    return True"
   ]
  },
  {
   "cell_type": "code",
   "execution_count": 68,
   "metadata": {},
   "outputs": [
    {
     "data": {
      "text/plain": [
       "[[0, 0, 1, 1], [0, 0, 0, 0], [0, 0, 0, 0], [0, 0, 0, 0]]"
      ]
     },
     "execution_count": 68,
     "metadata": {},
     "output_type": "execute_result"
    }
   ],
   "source": [
    "grid"
   ]
  },
  {
   "cell_type": "code",
   "execution_count": 129,
   "metadata": {},
   "outputs": [],
   "source": [
    "def put_piece(i,j, size: int, orientation : str, index):\n",
    "    if orientation == \"horizontal\":\n",
    "        for k in range(j, j+size):\n",
    "            grid[i][k] = index\n",
    "    \n",
    "    elif orientation == \"vertical\":\n",
    "        for k in range(i, i +size):\n",
    "            grid[k][j] = index\n",
    "\n",
    "def remove_piece(i, j, size, orientation):\n",
    "    if orientation == \"horizontal\":\n",
    "        for k in range(j, j+size):\n",
    "            grid[i][k] = 0\n",
    "    \n",
    "    elif orientation == \"vertical\":\n",
    "        for k in range(i, i +size):\n",
    "            grid[k][j] = 0"
   ]
  },
  {
   "cell_type": "code",
   "execution_count": 130,
   "metadata": {},
   "outputs": [],
   "source": [
    "class Piece:\n",
    "    def __init__(self, size, index ) -> None:\n",
    "        self.size = size\n",
    "        self.index = index"
   ]
  },
  {
   "cell_type": "code",
   "execution_count": 102,
   "metadata": {},
   "outputs": [
    {
     "data": {
      "text/plain": [
       "[(0, 0, 0, 0), (0, 0, 0, 0), (0, 0, 0, 0), (0, 0, 0, 0)]"
      ]
     },
     "execution_count": 102,
     "metadata": {},
     "output_type": "execute_result"
    }
   ],
   "source": [
    "tuple_grid = [tuple(grid[i]) for i in range(n) ] \n",
    "tuple_grid"
   ]
  },
  {
   "cell_type": "code",
   "execution_count": 131,
   "metadata": {},
   "outputs": [],
   "source": [
    "from typing import List\n",
    "counter = 0\n",
    "n = 4\n",
    "\n",
    "\n",
    "def count(pieces : List[Piece], grid, counted_grids : set = None):\n",
    "    global counter\n",
    "    if len(pieces) == 0:\n",
    "        counter += 1\n",
    "        return\n",
    "    \n",
    "    for i in range(n):\n",
    "        for j in range(n):\n",
    "            if is_available_horizontal(grid,i,j, pieces[-1].size):\n",
    "\n",
    "                piece = pieces.pop()\n",
    "                put_piece(i,j, piece.size, \"horizontal\", piece.index)\n",
    "                tuple_grid = [tuple(grid[i]) for i in range(n) ] \n",
    "\n",
    "                if not tuple(tuple_grid) in counted_grids:\n",
    "                    counted_grids.add(tuple(tuple_grid))\n",
    "                    count(pieces, grid, counted_grids)\n",
    "\n",
    "                remove_piece(i, j, piece.size, \"horizontal\")\n",
    "                pieces.append(piece)\n",
    "\n",
    "            if is_available_vertical(grid, i, j, pieces[-1].size):\n",
    "                piece = pieces.pop()\n",
    "                put_piece(i,j, piece.size, \"vertical\", piece.index)\n",
    "                \n",
    "                tuple_grid = [tuple(grid[i]) for i in range(n) ] \n",
    "                if not tuple(tuple_grid) in counted_grids:\n",
    "                    counted_grids.add(tuple(tuple_grid))\n",
    "                    count(pieces, grid, counted_grids)\n",
    "\n",
    "                remove_piece(i, j, piece.size, \"vertical\")\n",
    "                pieces.append(piece)\n",
    "\n"
   ]
  },
  {
   "cell_type": "code",
   "execution_count": 138,
   "metadata": {},
   "outputs": [],
   "source": [
    "pieces = [Piece(2,2), Piece(3,3)]\n",
    "counter = 0\n",
    "counted_grids = set()\n",
    "grid = [[0 for i in range(n)] for j in range(n)]\n",
    "count(pieces, grid ,counted_grids)"
   ]
  },
  {
   "cell_type": "code",
   "execution_count": 139,
   "metadata": {},
   "outputs": [
    {
     "data": {
      "text/plain": [
       "264"
      ]
     },
     "execution_count": 139,
     "metadata": {},
     "output_type": "execute_result"
    }
   ],
   "source": [
    "counter"
   ]
  },
  {
   "cell_type": "code",
   "execution_count": 3,
   "metadata": {},
   "outputs": [],
   "source": [
    "def countPrimes( n: int, target:  int) -> int:\n",
    "    if n <= 2:\n",
    "        return 0\n",
    "\n",
    "    is_prime =[]\n",
    "    for i in range(n):\n",
    "        is_prime.append(True)\n",
    "\n",
    "    is_prime[1] = False\n",
    "    is_prime[0] = False\n",
    "\n",
    "    for number, prime in enumerate(is_prime):\n",
    "        if prime:\n",
    "            for k in range(2, n//number + 1):\n",
    "                if k * number < n:\n",
    "                    is_prime[k*number] = False\n",
    "    \n",
    "    count = 0\n",
    "    for pos, prime in enumerate(is_prime):\n",
    "        count += prime\n",
    "        if count == target:\n",
    "            return pos\n",
    "    \n",
    "    # return count\n",
    "                "
   ]
  },
  {
   "cell_type": "code",
   "execution_count": 11,
   "metadata": {},
   "outputs": [],
   "source": [
    "countPrimes(116_671, 100_001)"
   ]
  }
 ],
 "metadata": {
  "kernelspec": {
   "display_name": "base",
   "language": "python",
   "name": "python3"
  },
  "language_info": {
   "codemirror_mode": {
    "name": "ipython",
    "version": 3
   },
   "file_extension": ".py",
   "mimetype": "text/x-python",
   "name": "python",
   "nbconvert_exporter": "python",
   "pygments_lexer": "ipython3",
   "version": "3.10.9"
  },
  "orig_nbformat": 4
 },
 "nbformat": 4,
 "nbformat_minor": 2
}
